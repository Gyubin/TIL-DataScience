{
 "cells": [
  {
   "cell_type": "markdown",
   "metadata": {},
   "source": [
    "# Hierarchical Clustering\n",
    "\n",
    "## 1. 기본 방식\n",
    "\n",
    "- 요약: 가장 짧은 거리의 데이터들끼리 순차적으로 묶어어나가며 클러스터를 만들고, 최종적으로 가장 적합한 시점의 sub-cluster들을 정한다.\n",
    "- 방법\n",
    "    + (1) 모든 데이터 간의 각각의 거리를 계산한다.(nC2회 계산)\n",
    "    + (2) 가장 가까운 두 데이터 $x_1, x_2$를 하나의 클러스터로 묶는다.\n",
    "    + (3) 클러스터를 새로운 하나의 데이터로 취급한다. 역시 다른 데이터들과 거리를 계산\n",
    "    + (4) 하나의 거대한 클러스터를 이룰 때까지 2와 3을 반복한다.\n",
    "\n",
    "![hc](http://tangibleauditoryinterfaces.de/wp-content/uploads/2010/04/durcheinander-cluster-chart.png)\n",
    "\n",
    "- 클러스터 선택: 결과는 위 이미지처럼 dendrogram으로 나온다. 적절한 지점을 선택해서 이미지의 우측처럼 클러스터를 정한다.(dendrogram의 높이는 합쳐진 두 클러스터간의 거리)\n",
    "- 장점: k-means는 먼저 클러스터의 개수를 정해줘야하지만 이 방식은 bottom-up으로 하기 때문에 사용자가 정해줄 필요 없다.\n",
    "\n",
    "> 위 이미지의 dendrogram을 보면 클러스터를 새롭게 만들어나갈수록 점점 클러스터간 거리가 증가한다. 데이터에 따라 새롭게 만들어진 클러스터와 기존 데이터 사이의 거리가 더 짧아질 수도 있지 않냐는 의문이 생길 수 있다. 하지만 그럴 일이 없도록 무조건 데이터가 증가하도록 만든 것이 이 방법론이다. 가장 거리가 짧은 데이터를 선택했으니 나머지는 모두 거리가 더 클 것이다라고 생각한다. 더 짧은게 생기면 inversion이라고 하는데 그렇게 되지 않도록 한다.\n",
    "\n",
    "## 2. 클러스터 거리 계산 기준\n",
    "\n",
    "- Centroid: 두 클러스터 A, B의 중심 간 거리\n",
    "- Complete: 두 클러스터 A, B에 있는 데이터들 간의 거리 중 가장 큰 값\n",
    "- Single: 두 클러스터 A, B에 있는 데이터들 간의 거리 중 가장 작은 값\n",
    "- Average: 두 클러스터 A, B에 있는 데이터들 간의 거리의 평균 값\n",
    "- Ward: Ward라는 사람이 만든 거리 계산 기준 -> [위키피디아 설명](https://en.wikipedia.org/wiki/Ward%27s_method)\n",
    "\n",
    "## 3. 적당한 클래스 개수\n",
    "\n",
    "$$\n",
    "J(K) = {1 \\over N}\\sum_{i=1}^N || X^{(i)} - \\mu_{c^{(i)}} ||_2^2 \\\\\n",
    "B(K) = {1 \\over K}\\sum_{i=1}^N || \\bar X - \\mu_{c^{(i)}} ||_2^2\n",
    "$$\n",
    "\n",
    "- J(K) : Within cluster variation\n",
    "    + 클러스터 내의 데이터끼리는 거리가 짧아야해서 값이 낮을 수록 좋다.\n",
    "    + $X^{(i)}$는 개별 데이터를 말하고, $\\mu_{c^{(i)}}$는 클러스터의 중점.\n",
    "- B(K) : Between cluster variation\n",
    "    + 클러스터 간의 거리는 거리가 길수록 좋으므로 값이 커야한다.\n",
    "    + $\\bar X$는 클러스터의 중점들의 평균 지점,  $\\mu_{c^{(i)}}$는 클러스터의 중점이다.\n",
    "- CH index: 실제로 사용할 땐 두 값을 합쳐서 수치르 사용한다. 아래 공식으로 구하고 이 값이 가장 큰 클러스터의 개수를 선택.\n",
    "\n",
    "$$\n",
    "CH(K) = {B(K) / (K - 1) \\over J(K) / (N-K)}\n",
    "$$\n"
   ]
  },
  {
   "cell_type": "code",
   "execution_count": null,
   "metadata": {
    "collapsed": true
   },
   "outputs": [],
   "source": []
  }
 ],
 "metadata": {
  "kernelspec": {
   "display_name": "Python 3",
   "language": "python",
   "name": "python3"
  },
  "language_info": {
   "codemirror_mode": {
    "name": "ipython",
    "version": 3
   },
   "file_extension": ".py",
   "mimetype": "text/x-python",
   "name": "python",
   "nbconvert_exporter": "python",
   "pygments_lexer": "ipython3",
   "version": "3.6.1"
  }
 },
 "nbformat": 4,
 "nbformat_minor": 2
}
