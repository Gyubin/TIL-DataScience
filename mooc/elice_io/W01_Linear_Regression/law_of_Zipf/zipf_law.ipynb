{
 "cells": [
  {
   "cell_type": "markdown",
   "metadata": {},
   "source": [
    "# Zipf's Law\n",
    "\n",
    "- 자연어 corpus에서 단어들을 빈도가 높은 순서대로 나열했을 때, 모든 단어의 사용 빈도는 순위에 반비례한다.\n",
    "- 즉 1위 단어는 2위 단어보다 빈도가 2배 높고, 3위 단어보다는 3배 높다. 약 135개의 단어로 전체 corpus의 절반 표현 가능.\n",
    "- 자연어만이 아니라 인구 순위, 기업 크기, 소득 순위 등의 분야에서도 같은 법칙이 발견됨.\n",
    "- 이 법칙이 적용되는 조건은 아래 식에서 b가 1일 때 적용 가능하다.\n",
    "    + $R = a * b\\log n$\n",
    "    + 데이터의 순위 R, 해당 데이터의 값 n, 그리고 상수값 a, b\n",
    "\n",
    "## 1. 구현"
   ]
  },
  {
   "cell_type": "code",
   "execution_count": 1,
   "metadata": {},
   "outputs": [
    {
     "data": {
      "image/png": "[encoded data removed]",
      "text/plain": [
       "<matplotlib.figure.Figure at 0x104e094a8>"
      ]
     },
     "metadata": {},
     "output_type": "display_data"
    }
   ],
   "source": [
    "from scipy.stats import linregress\n",
    "import numpy as np\n",
    "import matplotlib\n",
    "import matplotlib.pyplot as plt\n",
    "import math\n",
    "import operator\n",
    "\n",
    "def main():    \n",
    "    words_cnt = read_data()\n",
    "    rank = [math.log(i+1) for i in range(len(words_cnt))]\n",
    "    [slope, intercept] = do_linear_regression(rank, words_cnt)\n",
    "    draw_chart(rank, words_cnt, slope, intercept)\n",
    "    return slope, intercept\n",
    "\n",
    "def read_data():\n",
    "    words_cnt = []\n",
    "    with open(\"words.txt\") as fp:\n",
    "        for line in fp:\n",
    "            [word, cnt] = line.split(',')\n",
    "            words_cnt.append(math.log(int(cnt)))\n",
    "    return np.array(sorted(words_cnt, reverse=True))\n",
    "\n",
    "def draw_chart(X, Y, slope, intercept):\n",
    "    fig = plt.figure()\n",
    "    fig.suptitle(\"Linear regression for words usage\")\n",
    "    ax = fig.add_subplot(111)\n",
    "    ax.set_xlabel(\"Words\")\n",
    "    ax.set_ylabel(\"Count\")\n",
    "    plt.scatter(X, Y)\n",
    "    \n",
    "    min_X = min(X)\n",
    "    max_X = max(X)\n",
    "    min_Y = min_X * slope + intercept\n",
    "    max_Y = min_Y * slope + intercept\n",
    "    plt.plot([min_X, min_Y], [max_X, max_Y], color=\"red\", linestyle=\"--\", linewidth=3.0)\n",
    "    ax.text(min_X, min_Y+0.1, 'y = %.2lfx + %.2lf' % (slope, intercept), fontsize=15)\n",
    "    \n",
    "    plt.show()\n",
    "    plt.close()\n",
    "\n",
    "def do_linear_regression(X, Y):\n",
    "    slope, intercept, r, p, std_err = linregress(X, Y)\n",
    "    return slope, intercept\n",
    "\n",
    "if __name__ == \"__main__\":\n",
    "    main()\n"
   ]
  },
  {
   "cell_type": "markdown",
   "metadata": {
    "collapsed": true
   },
   "source": [
    "데이터와 rank를 모두 log화해서 벡터화 하고 linear regression 모델에 넣었다. 위 처럼 선형 회귀식이 나온다."
   ]
  },
  {
   "cell_type": "code",
   "execution_count": null,
   "metadata": {
    "collapsed": true
   },
   "outputs": [],
   "source": []
  }
 ],
 "metadata": {
  "kernelspec": {
   "display_name": "Python 3",
   "language": "python",
   "name": "python3"
  },
  "language_info": {
   "codemirror_mode": {
    "name": "ipython",
    "version": 3
   },
   "file_extension": ".py",
   "mimetype": "text/x-python",
   "name": "python",
   "nbconvert_exporter": "python",
   "pygments_lexer": "ipython3",
   "version": "3.6.1"
  }
 },
 "nbformat": 4,
 "nbformat_minor": 2
}
