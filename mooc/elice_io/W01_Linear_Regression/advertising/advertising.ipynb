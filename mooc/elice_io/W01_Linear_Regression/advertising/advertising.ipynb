{
 "cells": [
  {
   "cell_type": "markdown",
   "metadata": {},
   "source": [
    "# 광고와 매출 관계\n",
    "\n",
    "## 1. 기본\n",
    "\n",
    "- training, test 데이터 두 개로 나누기. training 데이터는 학습할 때, test 데이터는 성능을 측정할 때 사용. 서로가 완벽하게 분리돼야 한다.\n",
    "- TV, Radio, Newspaper 컬럼은 해당 매체에 광고를 한 비용을 의미하고, Sales는 광고를 그렇게 했을 때 나온 매출 데이터\n",
    "- 매체별 광고량과 매출이 어떤 관계가 있는지 분석하는 것이 목표\n",
    "\n",
    "```\n",
    "\"\",\"TV\",\"Radio\",\"Newspaper\",\"Sales\"\n",
    "\"1\",230.1,37.8,69.2,22.1\n",
    "\"2\",44.5,39.3,45.1,10.4\n",
    "\"3\",17.2,45.9,69.3,9.3\n",
    "\"4\",151.5,41.3,58.5,18.5\n",
    ".\n",
    ".\n",
    ".\n",
    "```\n",
    "\n",
    "## 2, Simple Lenear Regression\n",
    "\n",
    "### 2.1 개념\n",
    "\n",
    "![objective_func](http://i.imgur.com/4YS5m1K.png)\n",
    "\n",
    "- 대부분의 머신러닝 알고리즘은 데이터를 가장 잘 설명하는 model을 찾는 방법론이며 Linear Regression일 때 model은 1차 선형 함수다. 즉 데이터가 linear한 관계를 가지고 있다고 가정하고 진행하는 것.\n",
    "- 데이터를 잘 설명한다는 것은 objective function(목표함수)의 결과값 b0, b1을 찾는다는 것. Linear regression의 objective function 위 이미지의 공식이다.\n",
    "- b0, b1이 가장 적합하다는 것은 다음 세 가지 말과 일치한다.\n",
    "    - objective function의 결과값인 b0, b1\n",
    "    - Log likelihood를 최대화하는 b0, b1\n",
    "    - Cost function의 값을 최소화하는 b0, b1\n",
    "- Cost function은 무엇일까\n",
    "    - 우선 loss란 : 각각의 데이터에 대해서 y_predict 값과 실제 y값의 차이를 의미\n",
    "    - Squared loss란 : loss를 제곱한 값\n",
    "    - cost(=error)란: 모든 데이터에 대한 Squared loss들을 합한 값. cost와 error는 같은 말이며 cost function, error function은 역시 같은 함수\n",
    "    - loss, error, cost 사람마다 다르게 이야기하는 경우가 많으며 중요한 것은 모두 줄여야한다는 것. 그렇게 이해하면 된다.\n",
    "- b0, b1을 찾는 것은 Gradient descent 알고리즘을 사용한다.\n",
    "- 순서\n",
    "    + 먼저 b0, b1의 초기값을 설정한다.\n",
    "    + cost function에서 b0, b1 각각을 편미분한다.\n",
    "    + \"b0, b1 각각의 새로운 값 = 기존 값 - learning rate * 각각의 편미분값\"\n",
    "    + 목표 함수가 `converge` 할 때까지 반복한다. converge한다는 것은 두 가지 경우가 있다.\n",
    "        * b0, b1이 거의 안 변할 때까지\n",
    "        * Log likelihood가 거의 안 변할 때 까지\n",
    "\n",
    "### 2.2 구현\n",
    "\n",
    "#### 2.2.1 라이브러리"
   ]
  },
  {
   "cell_type": "code",
   "execution_count": 1,
   "metadata": {
    "collapsed": true
   },
   "outputs": [],
   "source": [
    "import matplotlib\n",
    "import matplotlib.pyplot as plt\n",
    "import numpy as np\n",
    "from sklearn import linear_model\n",
    "import pandas as pd\n",
    "from sklearn.metrics import r2_score, mean_squared_error\n",
    "from sklearn.model_selection import train_test_split"
   ]
  },
  {
   "cell_type": "markdown",
   "metadata": {},
   "source": [
    "#### 2.2.2 Simple linear regression"
   ]
  },
  {
   "cell_type": "code",
   "execution_count": 2,
   "metadata": {
    "collapsed": true
   },
   "outputs": [],
   "source": [
    "def one_var_advertising_pred(x_vec, y_vec, x_label, y_label, rs=108):\n",
    "    filename = \"advertising_fig_simple_train_test_{}.png\".format(x_label)\n",
    "\n",
    "    x_train, x_test, y_train, y_test = train_test_split(x_vec, y_vec, test_size=0.2, random_state=rs)\n",
    "\n",
    "    regr = linear_model.LinearRegression()\n",
    "\n",
    "    regr.fit(x_train, y_train)\n",
    "    predicted_y_test = regr.predict(x_test)\n",
    "    print(filename)\n",
    "    print(\"Independent variable: {}\".format(x_label))\n",
    "    print(\"Coefficients: {}\".format(regr.coef_))\n",
    "    print(\"Intercept: {}\".format(regr.intercept_))\n",
    "    print(\"RSS on test data: {}\".format(np.sum((predicted_y_test - y_test) ** 2)))\n",
    "    print(\"MSE on test data: {}\".format(mean_squared_error(y_test, predicted_y_test)))\n",
    "    print(\"R^2 on test data: {}\".format(r2_score(y_test, predicted_y_test)))\n",
    "    # Another way to compute the R^2 score\n",
    "    # print(\"R^2 on test data: {}\".format(regr.score(x_test, y_test)))\n",
    "    print()\n",
    "\n",
    "    plt.scatter(x_train, y_train, color='black')\n",
    "    plt.plot(x_train, regr.predict(x_train), color='blue', linewidth=3)\n",
    "\n",
    "    plt.xlim((0, int(max(x_vec) * 1.1)))\n",
    "    plt.xlabel(x_label, fontsize=20)\n",
    "    plt.ylabel(y_label, fontsize=20)\n",
    "\n",
    "    # plt.savefig(filename)\n",
    "    plt.show()\n",
    "    plt.close()"
   ]
  },
  {
   "cell_type": "markdown",
   "metadata": {},
   "source": [
    "- `train_test_split` : x, y 데이터를 원하는 비율로 train, test 데이터로 나눈다.\n",
    "- `linear_model`\n",
    "    + scikit-leran의 linear model.\n",
    "    + 이 객체에서 `fit` 함수를 호출해서 학습하고, `predict` 로 에측한다.\n",
    "    + `regr.coef_` : coefficient, 즉 weight 값을 리턴\n",
    "    + `regr.intercept_` : intercept, 즉 y 절편 값을 리턴\n",
    "- RSS(Residual Sum of Squares) : 모든 Squared loss의 합인 cost. 클 수록 안좋다.\n",
    "- MSE(Mean Squared Error) : RSS를 데이터 수로 나눈 것. 클 수록 안좋다.\n",
    "- R^2: 두 데이터 간의 상관관계를 r value라 하고 그것을 제곱한 값이다. 클 수록 좋다.\n",
    "\n",
    "\n",
    "#### 2.2.3 실행"
   ]
  },
  {
   "cell_type": "code",
   "execution_count": 3,
   "metadata": {},
   "outputs": [
    {
     "name": "stderr",
     "output_type": "stream",
     "text": [
      "/Users/qbinson/.virtualenvs/python-ml/lib/python3.6/site-packages/scipy/linalg/basic.py:1018: RuntimeWarning: internal gelsd driver lwork query error, required iwork dimension not returned. This is likely the result of LAPACK bug 0038, fixed in LAPACK 3.2.2 (released July 21, 2010). Falling back to 'gelss' driver.\n",
      "  warnings.warn(mesg, RuntimeWarning)\n"
     ]
    },
    {
     "name": "stdout",
     "output_type": "stream",
     "text": [
      "advertising_fig_simple_train_test_TV.png\n",
      "Independent variable: TV\n",
      "Coefficients: [[ 0.04861666]]\n",
      "Intercept: [ 6.97391383]\n",
      "RSS on test data: 435.25213636700136\n",
      "MSE on test data: 10.881303409175034\n",
      "R^2 on test data: 0.5559354016793248\n",
      "\n"
     ]
    },
    {
     "data": {
      "image/png": "[encoded data removed]",
      "text/plain": [
       "<matplotlib.figure.Figure at 0x113550048>"
      ]
     },
     "metadata": {},
     "output_type": "display_data"
    },
    {
     "name": "stdout",
     "output_type": "stream",
     "text": [
      "advertising_fig_simple_train_test_Radio.png\n",
      "Independent variable: Radio\n",
      "Coefficients: [[ 0.20288379]]\n",
      "Intercept: [ 9.42990656]\n",
      "RSS on test data: 690.5702835072512\n",
      "MSE on test data: 17.26425708768128\n",
      "R^2 on test data: 0.29544787966469455\n",
      "\n"
     ]
    },
    {
     "data": {
      "image/png": "[encoded data removed]",
      "text/plain": [
       "<matplotlib.figure.Figure at 0x113630860>"
      ]
     },
     "metadata": {},
     "output_type": "display_data"
    },
    {
     "name": "stdout",
     "output_type": "stream",
     "text": [
      "advertising_fig_simple_train_test_Newspaper.png\n",
      "Independent variable: Newspaper\n",
      "Coefficients: [[ 0.05728486]]\n",
      "Intercept: [ 12.4265411]\n",
      "RSS on test data: 1014.8670256324453\n",
      "MSE on test data: 25.371675640811134\n",
      "R^2 on test data: -0.035414832993195366\n",
      "\n"
     ]
    },
    {
     "data": {
      "image/png": "[encoded data removed]",
      "text/plain": [
       "<matplotlib.figure.Figure at 0x1135c8a58>"
      ]
     },
     "metadata": {},
     "output_type": "display_data"
    }
   ],
   "source": [
    "def main():\n",
    "    data = pd.read_csv(\"./Advertising.csv\", header=0)\n",
    "    response_var = -1\n",
    "    y_vec = data.ix[:, response_var].as_matrix().reshape(-1, 1)\n",
    "    y_label = data.columns[response_var]\n",
    "\n",
    "    for independent_var in range(1, 4):\n",
    "        try:\n",
    "            x_vec = data.ix[:, independent_var].as_matrix().reshape(-1, 1)\n",
    "            x_label = data.columns[independent_var]\n",
    "\n",
    "            one_var_advertising_pred(x_vec, y_vec, x_label, y_label)\n",
    "        except ValueError:\n",
    "            pass\n",
    "\n",
    "if __name__ == \"__main__\":\n",
    "    main()"
   ]
  },
  {
   "cell_type": "markdown",
   "metadata": {
    "collapsed": true
   },
   "source": [
    "## 3. Multiple Linear Regression 구현\n",
    "\n",
    "### 3.1 개념\n",
    "\n",
    "\\begin{align}\n",
    "y = \\beta_0 + \\beta_1X_1 + \\beta_2X_2 + ... + \\beta_pX_p\n",
    "\\end{align}\n",
    "\n",
    "- 여러 feature들을 이용해서 모델을 만든다. 모델의 형태는 위와 같고 모든 b 값을 계산한다.\n",
    "- 역시 Simple LR에서처럼 `(Y_real - Y_pred)^2` 가 Squared loss다. 모든 Squared loss의 합, 즉 cost를 가장 적게 하는 b들을 구하면 된다.\n",
    "- Gradient descent 알고리즘을 써서 각 b들의 편미분 값을 활용해서 b를 변화시켜간다. 원리는 Simple LR과 같다.\n",
    "\n",
    "### 3.2 구현"
   ]
  },
  {
   "cell_type": "code",
   "execution_count": 4,
   "metadata": {},
   "outputs": [
    {
     "name": "stdout",
     "output_type": "stream",
     "text": [
      "Independent variables: TV, Radio, Newspaper\n",
      "Coefficients: [[ 0.04646957  0.18526393  0.00055852]]\n",
      "Intercept: [ 2.87873703]\n",
      "RSS on test data: 107.61708497281542\n",
      "R^2 on test data: 0.8902040136786371\n",
      "\n"
     ]
    }
   ],
   "source": [
    "import numpy as np\n",
    "from sklearn import linear_model\n",
    "import pandas as pd\n",
    "from sklearn.metrics import r2_score\n",
    "from sklearn.model_selection import train_test_split\n",
    "\n",
    "\n",
    "def main():\n",
    "    data = pd.read_csv(\"./Advertising.csv\", header=0)\n",
    "    response_var = -1\n",
    "    y_vec = data.ix[:, response_var].as_matrix().reshape(-1, 1)\n",
    "    y_label = data.columns[response_var]\n",
    "\n",
    "    x_label = \", \".join(data.columns[range(1, 4)])\n",
    "    x_mat = data.ix[:, range(1, 4)].as_matrix().reshape(-1, 3)\n",
    "    multi_var_advertising(x_mat, y_vec, x_label)\n",
    "\n",
    "\n",
    "def multi_var_advertising(x_mat, y_vec, x_label, rs=108):\n",
    "    x_train, x_test, y_train, y_test = train_test_split(x_mat, y_vec, test_size=0.2, random_state=rs)\n",
    "\n",
    "    regr = linear_model.LinearRegression()\n",
    "\n",
    "    regr.fit(x_train, y_train)\n",
    "    predicted_y_test = regr.predict(x_test)\n",
    "    print(\"Independent variables: {}\".format(x_label))\n",
    "    print(\"Coefficients: {}\".format(regr.coef_))\n",
    "    print(\"Intercept: {}\".format(regr.intercept_))\n",
    "    print(\"RSS on test data: {}\".format(np.sum((predicted_y_test - y_test) ** 2)))\n",
    "    print(\"R^2 on test data: {}\".format(r2_score(y_test, predicted_y_test)))\n",
    "    print()\n",
    "\n",
    "\n",
    "if __name__ == \"__main__\":\n",
    "    main()\n"
   ]
  }
 ],
 "metadata": {
  "kernelspec": {
   "display_name": "Python 3",
   "language": "python",
   "name": "python3"
  },
  "language_info": {
   "codemirror_mode": {
    "name": "ipython",
    "version": 3
   },
   "file_extension": ".py",
   "mimetype": "text/x-python",
   "name": "python",
   "nbconvert_exporter": "python",
   "pygments_lexer": "ipython3",
   "version": "3.6.1"
  }
 },
 "nbformat": 4,
 "nbformat_minor": 2
}
