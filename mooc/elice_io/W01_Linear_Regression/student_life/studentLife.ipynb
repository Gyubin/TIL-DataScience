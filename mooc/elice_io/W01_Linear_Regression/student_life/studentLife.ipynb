{
 "cells": [
  {
   "cell_type": "markdown",
   "metadata": {},
   "source": [
    "# [StudentLife](http://studentlife.cs.dartmouth.edu/)\n",
    "\n",
    "## 1. 설명\n",
    "\n",
    "다트머스 대학 학생들의 여러 생활들과 해당 학기의 GPA 성적이 들어있는 데이터다. 아래는 데이터의 컬럼들이고 Simple Linear Regression을 활용해서 그래프를 그려보겠다.\n",
    "\n",
    "- 수면 시간 및 기상 시간 : `sleep_time`\n",
    "- 하루 중 나누는 대화의 수와 시간\n",
    "- 운동 (걷기, 앉아있기, 달리기, 서있기) : `exercise_activity`\n",
    "- 학생의 위치 정보 (기숙사, 수업, 파티, 운동)\n",
    "- 학생 주변에 있었던 사람들\n",
    "- 스트레스 레벨 : `stress_level`\n",
    "- 식습관\n",
    "- `social_activity`\n",
    "- 공부 시간: `study_time`\n",
    "\n",
    "\n",
    "## 2. 구현\n",
    "\n",
    "### 2.1 데이터\n",
    "\n",
    "```\n",
    "sleep_time study_time stress_level exercise_activity social_activity GPA\n",
    "6.09589041096 292 2.41635687732 41 4.24050632911 3.519\n",
    "5.125 54 1.84 11 2.125 3.719\n",
    "7.92307692308 78 2.06666666667 24 2.8 3.505\n",
    ".\n",
    ".\n",
    ".\n",
    "```\n",
    "\n",
    "### 2.2 라이브러리"
   ]
  },
  {
   "cell_type": "code",
   "execution_count": 1,
   "metadata": {
    "collapsed": true
   },
   "outputs": [],
   "source": [
    "from scipy.stats import linregress\n",
    "import numpy as np\n",
    "import matplotlib\n",
    "# matplotlib.use('Agg')\n",
    "import matplotlib.pyplot as plt"
   ]
  },
  {
   "cell_type": "markdown",
   "metadata": {},
   "source": [
    "`matplotlib.use('Agg')` 부분은 시각화 라이브러리가 결과물을 표현할 때 어떤 형식으로 할 것인지 정하는 것이다. `Agg`는 png 류의 이미지 파일로 출력한다는 의미고 `PDF`, `SVG`, `PS` 형태를 지정할 수도 있다.\n",
    "\n",
    "### 2.3 데이터 읽기"
   ]
  },
  {
   "cell_type": "code",
   "execution_count": 2,
   "metadata": {
    "collapsed": true
   },
   "outputs": [],
   "source": [
    "def read_data(col_name):\n",
    "    student_data = []\n",
    "    \n",
    "    with open('students.txt') as fp:\n",
    "        columns = fp.readline().strip().split(' ')\n",
    "        for line in fp:\n",
    "            line_data = line.strip().split(' ')\n",
    "            line_data_numeric = [float(x) for x in line_data]\n",
    "            student_data.append(line_data_numeric)\n",
    "    \n",
    "    student_data = np.array(student_data)\n",
    "    col_index = columns.index(col_name)\n",
    "    \n",
    "    # X must be numpy.array in (30 * 5) shape.\n",
    "    # Y must be 1-dimensional numpy.array.\n",
    "    X = student_data[:,col_index]\n",
    "    Y = student_data[:,-1]\n",
    "    return (X, Y)"
   ]
  },
  {
   "cell_type": "markdown",
   "metadata": {},
   "source": [
    "- 데이터에서 특정 컬럼의 데이터만 GPA와 함께 가져오는 함수\n",
    "- `students_data`에 하나의 라인을 한 행으로 해서 읽어와서 다 append한다.\n",
    "- 만들어진 list를 np.array 형태로 바꾼다.\n",
    "- X는 원하는 컬럼에 대한 모든 행이고, Y는 GPA 데이터다.\n",
    "\n",
    "### 2.4 Linear regression"
   ]
  },
  {
   "cell_type": "code",
   "execution_count": 3,
   "metadata": {
    "collapsed": true
   },
   "outputs": [],
   "source": [
    "def do_linear_regression(X, Y):\n",
    "    slope, intercept, r_value, p_value, std_err = linregress(X, Y)\n",
    "    return (slope, intercept)"
   ]
  },
  {
   "cell_type": "markdown",
   "metadata": {},
   "source": [
    "- `scipy.stats.linregress(X, Y)` : 데이터 X와 결과값 Y를 받아서 regression 결과를 리턴한다.\n",
    "    + `slope`: 기울기 스칼라값. 타입은 float\n",
    "    + `intercept`: y 절편 스칼라값. 타입은 float\n",
    "    + `r_value`: variable이 얼마나 연관되어있는지 -1에서 1 사이의 값을 지닌다. 절대값이 클 수록 연관관계가 큰 것이고 양, 음의 상관관계 존재\n",
    "    + `p_value`: p값\n",
    "    + `std_err`: population(모집단)의 standard deviatation이 아니라 sampling ditribution에서의 standrd deviation. 즉 N으로 나눈 것이 아니라 N-1로 나눈 값\n",
    "\n",
    "### 2.5 chart"
   ]
  },
  {
   "cell_type": "code",
   "execution_count": 4,
   "metadata": {
    "collapsed": true
   },
   "outputs": [],
   "source": [
    "def draw_chart(X, Y, slope, intercept, x_col):\n",
    "    fig = plt.figure()\n",
    "    fig.suptitle('Linear Regression for Class Data')\n",
    "    ax = fig.add_subplot(111)\n",
    "    ax.set_xlabel(x_col)\n",
    "    ax.set_ylabel('GPA')\n",
    "    \n",
    "    plt.scatter(X, Y)\n",
    "    \n",
    "    min_X = min(X)\n",
    "    max_X = max(X)\n",
    "    min_Y = min_X * slope + intercept\n",
    "    max_Y = max_X * slope + intercept\n",
    "    plt.plot([min_X, max_X], [min_Y, max_Y], \n",
    "             color='red',\n",
    "             linestyle='--',\n",
    "             linewidth=3.0)\n",
    "    \n",
    "    ax.text(min_X, min_Y + 0.1, r'$y = %.2lfx + %.2lf$' % (slope, intercept), fontsize=15)\n",
    "    plt.show()\n",
    "    # plt.savefig('chart.svg')"
   ]
  },
  {
   "cell_type": "markdown",
   "metadata": {},
   "source": [
    "- `fig = plt.figure()` : fig로 표 형태 결정\n",
    "- `fig.suptitle('text')` : 맨 위 중앙에 위치할 제목 설정\n",
    "- `ax = fig.add_subplot(111)` : 숫자는 비율을 의미하고 배경 색도 지정 가능하다. 구해진 ax로 x, y 축 레이블도 설정\n",
    "- `plt.scatter(X, Y)` : 데이터를 가지고 산점도를 그린다.\n",
    "- 아래 min, max 코드들은 X축 끝에서 끝까지 regression으로 구해진 slope, intercept로 선을 긋는 과정\n",
    "- `ax.text(x, y, text, fontsize=15)` : x, y 좌표에 text를 더하는 것\n",
    "\n",
    "### 2.6 실행"
   ]
  },
  {
   "cell_type": "code",
   "execution_count": 5,
   "metadata": {},
   "outputs": [
    {
     "data": {
      "image/png": "[encoded data removed]",
      "text/plain": [
       "<matplotlib.figure.Figure at 0x10bfa9fd0>"
      ]
     },
     "metadata": {},
     "output_type": "display_data"
    }
   ],
   "source": [
    "def main():\n",
    "    '''\n",
    "    사용 가능 컬럼\n",
    "    sleep_time, study_time, stress_level, exercise_activity, social_activity\n",
    "    '''\n",
    "    x_col = 'sleep_time'\n",
    "    \n",
    "    (X, Y) = read_data(x_col)\n",
    "    (slope, intercept) = do_linear_regression(X, Y)  # linear regression을 하는 함수\n",
    "    draw_chart(X, Y, slope, intercept, x_col) # 그래프를 그리는 함수\n",
    "\n",
    "if __name__ == \"__main__\":\n",
    "    main()"
   ]
  },
  {
   "cell_type": "code",
   "execution_count": null,
   "metadata": {
    "collapsed": true
   },
   "outputs": [],
   "source": []
  }
 ],
 "metadata": {
  "kernelspec": {
   "display_name": "Python 3",
   "language": "python",
   "name": "python3"
  },
  "language_info": {
   "codemirror_mode": {
    "name": "ipython",
    "version": 3
   },
   "file_extension": ".py",
   "mimetype": "text/x-python",
   "name": "python",
   "nbconvert_exporter": "python",
   "pygments_lexer": "ipython3",
   "version": "3.6.1"
  }
 },
 "nbformat": 4,
 "nbformat_minor": 2
}
