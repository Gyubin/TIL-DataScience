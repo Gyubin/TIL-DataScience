{
 "cells": [
  {
   "cell_type": "markdown",
   "metadata": {},
   "source": [
    "# SVM examples\n",
    "\n",
    "## 1. Maximal margin classifier\n",
    "\n",
    "### 1.1 library"
   ]
  },
  {
   "cell_type": "code",
   "execution_count": 1,
   "metadata": {
    "collapsed": true
   },
   "outputs": [],
   "source": [
    "import matplotlib\n",
    "import matplotlib.pyplot as plt\n",
    "import numpy as np\n",
    "from sklearn.svm import SVC  # SVC stands for : Support Vector Classification"
   ]
  },
  {
   "cell_type": "markdown",
   "metadata": {},
   "source": [
    "### 1.2 Generate data"
   ]
  },
  {
   "cell_type": "code",
   "execution_count": 2,
   "metadata": {
    "collapsed": true
   },
   "outputs": [],
   "source": [
    "def linear_func1(x):\n",
    "    l = len(x)\n",
    "    return (3*x + 100 + 30 * np.random.randn(l))\n",
    "\n",
    "def linear_func2(x):\n",
    "    l = len(x)\n",
    "    return (3*x - 100 + 30 * np.random.randn(l))\n",
    "\n",
    "def generate_data(n):\n",
    "    np.random.seed(328183)\n",
    "    x1_1 = (np.random.random(int(0.5 * n)) - 0.5) * 100\n",
    "    x2_1 = linear_func1(x1_1)\n",
    "    x1_2 = (np.random.random(int(0.5 * n)) - 0.5) * 100\n",
    "    x2_2 = linear_func2(x1_2)\n",
    "    y_1 = np.ones(int(0.5 * n))\n",
    "    y_2 = -1 * np.ones(int(0.5 * n))\n",
    "\n",
    "    x1 = np.concatenate((x1_1, x1_2))\n",
    "    x2 = np.concatenate((x2_1, x2_2))\n",
    "    y = np.concatenate((y_1, y_2))\n",
    "    X = np.array(list(zip(x1, x2)))\n",
    "\n",
    "    return (X, y)"
   ]
  },
  {
   "cell_type": "markdown",
   "metadata": {},
   "source": [
    "- generate_data에서 매개변수 n은 만들고자하는 데이터의 총 개수다.\n",
    "- `(np.random.random(int(0.5 * n)) - 0.5) * 100`\n",
    "    + 선형 분리할 두 종류의 데이터를 만들거라서 데이터의 개수에 0.5를 곱했다.\n",
    "    + 만들어진 1/2 * n 개의 데이터에 0.5 값을 빼고 100을 곱한다. 전체 데이터에 적용된다.\n",
    "- `np.random.random`과 `np.random.randn`의 차이는 전자는 uniform distribution, 후자는 standard normal distribution\n",
    "\n",
    "### 2.3 SVM, draw chart"
   ]
  },
  {
   "cell_type": "code",
   "execution_count": 3,
   "metadata": {},
   "outputs": [
    {
     "data": {
      "image/png": "[encoded data removed]",
      "text/plain": [
       "<matplotlib.figure.Figure at 0x10a0587f0>"
      ]
     },
     "metadata": {},
     "output_type": "display_data"
    }
   ],
   "source": [
    "def svm(X, y):\n",
    "    clf = SVC(C=np.inf, kernel='linear')\n",
    "    clf.fit(X, y)\n",
    "    return (clf)\n",
    "\n",
    "def draw(X, y, clf):\n",
    "    ###These are to make the figure clearer. You don't need to change this part.\n",
    "    plt.gca().spines['top'].set_visible(False)\n",
    "    plt.gca().spines['right'].set_visible(False)\n",
    "    plt.gca().spines['bottom'].set_color('#999999')\n",
    "    plt.gca().spines['left'].set_color('#999999')\n",
    "    plt.xlabel('x1', fontsize=20, color='#555555'); plt.ylabel('x2', fontsize=20, color='#555555')\n",
    "    plt.tick_params(axis='x', colors='#777777')\n",
    "    plt.tick_params(axis='y', colors='#777777')    \n",
    "\n",
    "    x_min, x_max = X[:, 0].min() - 1, X[:, 0].max() + 1\n",
    "    y_min, y_max = X[:, 1].min() - 1, X[:, 1].max() + 1\n",
    "    h = 0.3  # step size in the mesh\n",
    "    xx, yy = np.meshgrid(np.arange(x_min, x_max, h), np.arange(y_min, y_max, h))\n",
    "    \n",
    "    Z = clf.predict(np.c_[xx.ravel(), yy.ravel()])\n",
    "    Z = Z.reshape(xx.shape)\n",
    "    plt.contour(xx, yy, Z, colors='#CE5A57', alpha=0.6)\n",
    "    plt.scatter(X[:, 0], X[:, 1], c = ['#444C5C' if yy == 1 else '#78A5A3' for yy in y], edgecolor='none', s=30)\n",
    "\n",
    "    # plt.savefig(\"simplest_svm.png\")\n",
    "    plt.show()\n",
    "    \n",
    "    plt.close()\n",
    "\n",
    "if __name__ == '__main__':\n",
    "    X, y = generate_data(100)\n",
    "    clf = svm(X, y)\n",
    "    draw(X, y, clf) "
   ]
  },
  {
   "cell_type": "markdown",
   "metadata": {},
   "source": [
    "## 2. Soft Margin Classifier\n",
    "\n",
    "- 1의 Maximal Margin Classifier의 코드와 똑같다.\n",
    "- 다만 generate_data 함수에서 다음 코드처럼 outlier를 만들어준다.\n",
    "\n",
    "    ```py\n",
    "    y_1[-1 * n//50:] = -1.\n",
    "    y_2[-1 * n//50:] = 1.\n",
    "    ```\n",
    "- 추가로 svm 함수에서 C 값을 기존 infinity에서 1로 조절한다.\n",
    "\n",
    "    ```py\n",
    "    clf = SVC(C=1., kernel='linear')\n",
    "    ```\n",
    "- 데이터에 outlier 분포만 추가되어 1 예제와 같은 그래프를 볼 수 있다.\n",
    "\n",
    "## 3. Support Vector Machine\n",
    "\n",
    "### 3.1 Library"
   ]
  },
  {
   "cell_type": "code",
   "execution_count": 7,
   "metadata": {
    "collapsed": true
   },
   "outputs": [],
   "source": [
    "import matplotlib\n",
    "import matplotlib.pyplot as plt\n",
    "import numpy as np\n",
    "from sklearn.svm import SVC  # SVC stands for : Support Vector Classification"
   ]
  },
  {
   "cell_type": "markdown",
   "metadata": {},
   "source": [
    "### 3.2 Generate data"
   ]
  },
  {
   "cell_type": "code",
   "execution_count": 8,
   "metadata": {
    "collapsed": true
   },
   "outputs": [],
   "source": [
    "def nonlinear_func1(x):\n",
    "    l = len(x)\n",
    "    return (0.1 * pow(x, 3) + 0.2 * pow(x, 2) + 0.5 * x + 1000 + 3000 * np.random.random(l))\n",
    "\n",
    "def nonlinear_func2(x):\n",
    "    l = len(x)\n",
    "    return (0.1 * pow(x, 3) + 0.2 * pow(x, 2) - 0.5 * x - 1000 - 3000 * np.random.random(l))\n",
    "\n",
    "def generate_data(n):\n",
    "    np.random.seed(32840091)\n",
    "\n",
    "    x1_1 = (np.random.random(int(0.5 * n)) - 0.5) * 100\n",
    "    x2_1 = nonlinear_func1(x1_1)\n",
    "    x1_2 = (np.random.random(int(0.5 * n)) - 0.5) * 100\n",
    "    x2_2 = nonlinear_func2(x1_2)\n",
    "    y_1 = np.ones(int(0.5 * n))\n",
    "    y_2 = -1 * np.ones(int(0.5 * n))\n",
    "\n",
    "    x1 = np.concatenate((x1_1, x1_2))\n",
    "    x2 = np.concatenate((x2_1, x2_2))\n",
    "    y = np.concatenate((y_1, y_2))\n",
    "    X = np.array(list(zip(x1, x2)))\n",
    "\n",
    "    return (X, y)"
   ]
  },
  {
   "cell_type": "markdown",
   "metadata": {},
   "source": [
    "- nonlinear_func : 비선형 데이터를 만드는 함수다. 리턴값을 보면 x의 3차항, 2차항, 1차항이 모두 존재한다.\n",
    "- 아래 generate_data 부분은 앞의 예제와 같다.\n",
    "\n",
    "### 3.3 SVM, Draw chart"
   ]
  },
  {
   "cell_type": "code",
   "execution_count": 9,
   "metadata": {},
   "outputs": [
    {
     "data": {
      "image/png": "[encoded data removed]",
      "text/plain": [
       "<matplotlib.figure.Figure at 0x1122c77f0>"
      ]
     },
     "metadata": {},
     "output_type": "display_data"
    }
   ],
   "source": [
    "def svm(X, y):\n",
    "    clf = SVC(kernel='rbf', C=np.inf, gamma=1e-8)\n",
    "    clf.fit(X, y)\n",
    "    return (clf)\n",
    "\n",
    "def draw(X, y, clf):\n",
    "    plt.gca().spines['top'].set_visible(False)\n",
    "    plt.gca().spines['right'].set_visible(False)\n",
    "    plt.gca().spines['bottom'].set_color('#999999')\n",
    "    plt.gca().spines['left'].set_color('#999999')\n",
    "    plt.xlabel('x1', fontsize=20, color='#555555'); plt.ylabel('x2', fontsize=20, color='#555555')\n",
    "    plt.tick_params(axis='x', colors='#777777')\n",
    "    plt.tick_params(axis='y', colors='#777777')\n",
    "\n",
    "    x_min, x_max = X[:, 0].min() - 1, X[:, 0].max() + 1\n",
    "    y_min, y_max = X[:, 1].min() - 1, X[:, 1].max() + 1\n",
    "    h = 0.5  # step size in the mesh\n",
    "    xx, yy = np.meshgrid(np.arange(x_min, x_max, h), np.arange(y_min, y_max, h))\n",
    "    \n",
    "    Z = clf.predict(np.c_[xx.ravel(), yy.ravel()])\n",
    "    Z = Z.reshape(xx.shape)\n",
    "    plt.contour(xx, yy, Z, colors='#CE5A57', alpha=0.25)\n",
    "    plt.scatter(X[:, 0], X[:, 1], c = ['#444C5C' if yy == 1 else '#78A5A3' for yy in y], edgecolor='none', s=30)\n",
    "\n",
    "    plt.show()\n",
    "\n",
    "    plt.close()\n",
    "\n",
    "if __name__ == '__main__':\n",
    "    X, y = generate_data(100)\n",
    "    clf = svm(X, y)\n",
    "    draw(X, y, clf) "
   ]
  },
  {
   "cell_type": "markdown",
   "metadata": {},
   "source": [
    "- `clf = SVC(kernel='rbf', C=np.inf, gamma=1e-8)`\n",
    "    + kernel은 rbf를 썼다.\n",
    "    + C는 무한대 값으로 준다. 융통성을 강하게 발휘하겠다는 의미\n",
    "    + gamma: Kernel 함수, 특히 ‘rbf’, ‘poly’, ‘sigmoid’의 함수의 coefficient 값이다. 디폴트 값은 ‘auto’이며 1/n_features 로 자동 조정된다.\n",
    "\n",
    "## 4. Custom kernel\n",
    "\n",
    "$$\n",
    "k(x, y) = \\sum_{i=1}^K(w_ix_i)(w_iy_i)\n",
    "$$\n",
    "\n",
    "- 연습 삼아 직접 커널 함수를 구현해서 사용할 수 있다.\n",
    "- $N_1=2, N_2=3, K=2$ 일 때 데이터는 다음 꼴이고\n",
    "\n",
    "    ```py\n",
    "    X = [[1., 2.], [2., 3.]]\n",
    "    Y = [[-1., -2.], [-2., -3.], [3., 4.]]\n",
    "    w = [.5, -.25]\n",
    "    ```\n",
    "\n",
    "- 리턴해야할 값은 다음과 같다.\n",
    "\n",
    "    ```py\n",
    "    [|\n",
    "        [\n",
    "            k([1., 2.], [-1., -2.]),\n",
    "            k([1., 2.], [-2., -3.]),\n",
    "            k([1., 2.], [3., 4.])\n",
    "        ],\n",
    "        [\n",
    "            k([2., 3.], [-1., -2.]),\n",
    "            k([2., 3.], [-2., -3.]),\n",
    "            k([2., 3.], [3., 4.])\n",
    "        ]\n",
    "    ]\n",
    "    ```\n",
    "\n",
    "- 커널 함수를 대입해서 계산하면 다음처럼 나온다.\n",
    "\n",
    "    ```py\n",
    "    [\n",
    "        [-0.5   , -0.875 ,  1.25  ],\n",
    "        [-0.875 , -1.5625,  2.25  ]\n",
    "    ]\n",
    "    ```\n",
    "\n",
    "### 4.1 kernel"
   ]
  },
  {
   "cell_type": "code",
   "execution_count": 1,
   "metadata": {
    "collapsed": true
   },
   "outputs": [],
   "source": [
    "import numpy as np\n",
    "from sklearn.datasets import load_breast_cancer\n",
    "from sklearn import svm\n",
    "\n",
    "def linear_kernel(X, Y, w):\n",
    "    result = []\n",
    "    for i in range(len(X)):\n",
    "        tmp = []\n",
    "        for j in range(len(Y)):\n",
    "            el_sum = 0\n",
    "            for k in range(len(w)):\n",
    "                el_sum += X[i][k] * Y[j][k] * (w[k] ** 2)\n",
    "            tmp.append(el_sum)\n",
    "        result.append(tmp)\n",
    "    return np.array(result)"
   ]
  },
  {
   "cell_type": "markdown",
   "metadata": {},
   "source": [
    "### 4.2 실행"
   ]
  },
  {
   "cell_type": "code",
   "execution_count": 2,
   "metadata": {},
   "outputs": [
    {
     "name": "stdout",
     "output_type": "stream",
     "text": [
      "Number of data : 569\n",
      "Number of columns : 30\n",
      "Number of training_data : 426\n",
      "Using linear kernel function\n",
      "training error : 0.965\n",
      "test error : 0.972\n",
      "Using custom kernel function\n",
      "training error : 0.960\n",
      "test error : 0.974\n"
     ]
    }
   ],
   "source": [
    "def main():\n",
    "    data = load_breast_cancer()\n",
    "    \n",
    "    X = data.data\n",
    "    y = data.target\n",
    "    n_rows = X.shape[0]\n",
    "    n_cols = X.shape[1]\n",
    "    print('Number of data : %d' % n_rows)\n",
    "    print('Number of columns : %d' % n_cols)\n",
    "    \n",
    "    # Number of training and test data\n",
    "    n_train = int(n_rows * 0.75)\n",
    "    print('Number of training_data : %d' % n_train)\n",
    "    \n",
    "    # Randomly seperate training and test data\n",
    "    idx = np.random.permutation(len(data.data))\n",
    "    idx_train = idx[:n_train]\n",
    "    idx_test = idx[-n_train:]\n",
    "    \n",
    "    # SVM using linear kernel function\n",
    "    print('Using linear kernel function')\n",
    "    \n",
    "    # Train SVM with linear kernel\n",
    "    clf_linear = svm.SVC(kernel = 'linear')\n",
    "    clf_linear.fit(X[idx_train], y[idx_train])\n",
    "\n",
    "    # Print training score\n",
    "    print('training error : %.3f' % clf_linear.score(X[idx_train], y[idx_train]))\n",
    "\n",
    "    # Print test score\n",
    "    print('test error : %.3f' % clf_linear.score(X[idx_test], y[idx_test]))\n",
    "        \n",
    "    # SVM using custom kernel function\n",
    "    print('Using custom kernel function')\n",
    "    \n",
    "    try:\n",
    "        # Randomly pick kernel weights\n",
    "        w = np.random.random(n_cols)\n",
    "        my_kernel = (lambda X1, X2 : linear_kernel(X1, X2, w))\n",
    "        \n",
    "        # Train SVM with custom kernel\n",
    "        clf_custom = svm.SVC(kernel = my_kernel)\n",
    "        clf_custom.fit(X[idx_train], y[idx_train])\n",
    "\n",
    "        # Print training score\n",
    "        print('training error : %.3f' % clf_custom.score(X[idx_train], y[idx_train]))\n",
    "\n",
    "        # Print test score\n",
    "        print('test error : %.3f' % clf_custom.score(X[idx_test], y[idx_test]))\n",
    "    \n",
    "    except Exception as e:\n",
    "        # Print Error\n",
    "        print('Error : %s' % e)\n",
    "\n",
    "if __name__ == \"__main__\":\n",
    "    main()"
   ]
  },
  {
   "cell_type": "code",
   "execution_count": null,
   "metadata": {
    "collapsed": true
   },
   "outputs": [],
   "source": []
  }
 ],
 "metadata": {
  "kernelspec": {
   "display_name": "Python 3",
   "language": "python",
   "name": "python3"
  },
  "language_info": {
   "codemirror_mode": {
    "name": "ipython",
    "version": 3
   },
   "file_extension": ".py",
   "mimetype": "text/x-python",
   "name": "python",
   "nbconvert_exporter": "python",
   "pygments_lexer": "ipython3",
   "version": "3.6.1"
  }
 },
 "nbformat": 4,
 "nbformat_minor": 2
}
