{
 "cells": [
  {
   "cell_type": "markdown",
   "metadata": {},
   "source": [
    "# DBSCAN\n",
    "\n",
    "\"Density-based spatial clustering of applications with noise\"의 약자다.\n",
    "\n",
    "## 1. 기본\n",
    "\n",
    "- 요약: 밀도 기반으로 클러스터를 분류한다. 아래에서 좀 더 자세히 설명할 기준을 통해 밀집되어있는 데이터들을 하나로 묶어서 클러스터로 만든다.\n",
    "- INPUT\n",
    "    + 원의 크기 $\\epsilon$ : 한 데이터를 중심으로 어느정도 거리 안에 있으면 같은 클러스터로 인식할건지\n",
    "    + Core가 될 수 있는 최소 인접 데이터 수 minPts: 원 안에 최소 몇 개가 있어야 Core 데이터로 정할 것인가(자기 자신 포함). 코어 데이터는 클러스터가 만들어지는 시발점이 된다.\n",
    "- 작동 원리\n",
    "    + 한 점을 정하고 원을 그린 후 속한 데이터의 개수를 측정한다.\n",
    "    + 원 내부의 점 개수가 minPts 이상일 때 -> **Core**: 새로운 클러스터가 하나 생성되고, 원 내부의 모든 데이터끼리 서로 선을 그려 연결한다.\n",
    "    + 원 내부의 점 개수가 minPts 이하이지만 0은 아닐 때 -> **Border**: Core가 아니지만 원 안에 데이터가 있긴 있다면 클러스터가 생성되진 않고, 데이터 간의 선을 그린다.\n",
    "    + 만약 원 안에 아무 데이터도 없다면 이 데이터는 **Outlier** 또는 **Noise**다. 다른 데이터와 연결 불가능하다.\n",
    "- OUTPUT: 클러스터들과 속하는 데이터\n",
    "    + Density Reachable: 원 내부에 있으면 모두 연결가능하다. 원 내부에서 연결되면 직접 연결, 중간 연결 데이터를 통해 연결되면 간접연결. 이 모두가 연결이며 되기만하면 같은 클러스터로 취급한다.\n",
    "    + 클러스터의 개수를 몰라도 원의 크기와 minPts만 정하면 클러스터링이 된다.\n",
    "    + 밀도 기반이기 때문에 데이터를 연결해나가다보면 다양한 모양이 가능해진다.\n",
    "\n",
    "## 2. 원의 크기와 최소 데이터 수 설정\n",
    "\n",
    "- $\\epsilon$ 은 nearest neighbor graph를 통해서 유추한다.\n",
    "    + KNN에서 사용한 가장 가까운 이웃 데이터를 활용한다.\n",
    "    + 데이터들 간 거리를 모두 측정해본 다음 고민\n",
    "- minPts: 최소 3 이상 설정한다.\n",
    "    + if minPts == 1 : 모든 데이터가 코어고, 데이터 수만큼 클러스터가 생긴다. 의미없는 클러스터링\n",
    "    + if minPts == 2 : 바의 높이가 $\\epsilon$이고 linkage 방법은 single인 hierarchical clustering과 같은 방법\n",
    "\n",
    "## 3. 코드\n",
    "\n",
    "### 3.1 Data 생성"
   ]
  },
  {
   "cell_type": "code",
   "execution_count": 6,
   "metadata": {},
   "outputs": [],
   "source": [
    "from sklearn.cluster import DBSCAN\n",
    "import matplotlib.pyplot as plt\n",
    "import numpy as np\n",
    "\n",
    "X = []\n",
    "\n",
    "with open(\"data.csv\", 'r') as openfileobject:\n",
    "    for __line in openfileobject:\n",
    "        X.append([float(v) for v in __line.split()])"
   ]
  },
  {
   "cell_type": "markdown",
   "metadata": {},
   "source": [
    "### 3.2 DBSCAN model"
   ]
  },
  {
   "cell_type": "code",
   "execution_count": null,
   "metadata": {
    "collapsed": true
   },
   "outputs": [],
   "source": [
    "colours = ['red','green','blue']\n",
    "\n",
    "db = DBSCAN(eps=2, min_samples=4).fit(X)\n",
    "core_samples_mask = np.zeros_like(db.labels_, dtype=bool)\n",
    "core_samples_mask[db.core_sample_indices_] = True\n",
    "labels = db.labels_\n",
    "\n",
    "# Number of clusters in labels, ignoring noise if present.\n",
    "n_clusters_ = len(set(labels)) - (1 if -1 in labels else 0)\n",
    "\n",
    "preds = np.zeros(len(X))"
   ]
  },
  {
   "cell_type": "markdown",
   "metadata": {},
   "source": [
    "### 3.3 Show"
   ]
  },
  {
   "cell_type": "code",
   "execution_count": null,
   "metadata": {
    "collapsed": true
   },
   "outputs": [],
   "source": [
    "plt.figure() # 빈 pyplot figure 생성\n",
    "\n",
    "# Scatter plot for each label\n",
    "\n",
    "uniqueLabels = list(set(labels))\n",
    "\n",
    "colours = ['red','green','blue']\n",
    "for label in uniqueLabels :\n",
    "    idx = (labels == label)\n",
    "    \n",
    "    for j in range(len(idx)) :\n",
    "        if idx[j] == True :\n",
    "            plt.scatter(X[j][0], X[j][1], color = colours[label], marker = '.')\n",
    "\n",
    "# Set title\n",
    "plt.title('DBSCAN')\n",
    "plt.show()"
   ]
  },
  {
   "cell_type": "code",
   "execution_count": null,
   "metadata": {
    "collapsed": true
   },
   "outputs": [],
   "source": []
  }
 ],
 "metadata": {
  "kernelspec": {
   "display_name": "Python 3",
   "language": "python",
   "name": "python3"
  },
  "language_info": {
   "codemirror_mode": {
    "name": "ipython",
    "version": 3
   },
   "file_extension": ".py",
   "mimetype": "text/x-python",
   "name": "python",
   "nbconvert_exporter": "python",
   "pygments_lexer": "ipython3",
   "version": "3.6.1"
  }
 },
 "nbformat": 4,
 "nbformat_minor": 2
}
