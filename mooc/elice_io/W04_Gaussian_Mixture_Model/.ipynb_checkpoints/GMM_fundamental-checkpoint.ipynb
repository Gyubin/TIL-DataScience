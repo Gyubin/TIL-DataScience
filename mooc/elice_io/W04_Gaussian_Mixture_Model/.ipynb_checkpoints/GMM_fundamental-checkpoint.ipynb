{
 "cells": [
  {
   "cell_type": "markdown",
   "metadata": {},
   "source": [
    "# Gaussian Mixture Model\n",
    "\n",
    "## 1. 정규 분포\n",
    "\n",
    "- 가우시안 분포(정규분포): 평균과 분산을 모수로 가지는 확률 분포\n",
    "- Multivariate Gaussian Distribution: X가 여러 종류 있을 때의 정규분포\n",
    "    + 표현: $N(\\mu, \\sum)$\n",
    "    + mean: feature의 종류가 길이가 되는 벡터\n",
    "    + covariance: feature가 2개면 2 by 2 매트릭스 꼴이 된다. (0,0)은 X1의 분산, (1,1)은 X2의 분산, (0,1),(1,0)이 skewed를 나타내는 부분\n",
    "\n",
    "## 2. GMM\n",
    "\n",
    "- k-means 방법과 비슷한데 거리 이상으로 \"분산\"도 고려하는 방법이다. 즉 density-based 모델.\n",
    "- 알고리즘\n",
    "    + 클러스터 개수(K)를 정한다.\n",
    "    + 각 클러스터마다 클러스터가 선택될 확률, 평균, 공분산을 랜덤으로 정의\n",
    "    + 각 데이터들이 어느 클러스터에 들어갈지 계산\n",
    "    + 클러스터마다 선택될 확률, 평균, 공분산을 다시 계산\n",
    "    + 작업 반복(k-means와 같은 방법론)"
   ]
  },
  {
   "cell_type": "code",
   "execution_count": null,
   "metadata": {
    "collapsed": true
   },
   "outputs": [],
   "source": []
  }
 ],
 "metadata": {
  "kernelspec": {
   "display_name": "Python 3",
   "language": "python",
   "name": "python3"
  },
  "language_info": {
   "codemirror_mode": {
    "name": "ipython",
    "version": 3
   },
   "file_extension": ".py",
   "mimetype": "text/x-python",
   "name": "python",
   "nbconvert_exporter": "python",
   "pygments_lexer": "ipython3",
   "version": "3.6.1"
  }
 },
 "nbformat": 4,
 "nbformat_minor": 2
}
