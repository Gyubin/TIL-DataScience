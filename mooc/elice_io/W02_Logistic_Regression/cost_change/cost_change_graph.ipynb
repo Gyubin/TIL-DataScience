{
 "cells": [
  {
   "cell_type": "markdown",
   "metadata": {},
   "source": [
    "# Cost 변화 양상\n",
    "\n",
    "## 1. Linear regression\n",
    "\n",
    "- Linear regression은 최적의 weight vector를 찾기 위해 cost를 최소화하게 된다.\n",
    "- Squared loss를 활용해 Gradient descent algorithm을 돌리게 되고 최적의 weight를 찾을 수 있다.\n",
    "- cost의 변화가 아래로 볼록한 convex 형태를 가지기 때문에 가능하다."
   ]
  },
  {
   "cell_type": "code",
   "execution_count": 2,
   "metadata": {},
   "outputs": [
    {
     "data": {
      "image/png": "[encoded data removed]",
      "text/plain": [
       "<matplotlib.figure.Figure at 0x112b824e0>"
      ]
     },
     "metadata": {},
     "output_type": "display_data"
    }
   ],
   "source": [
    "import math\n",
    "import numpy as np\n",
    "import matplotlib\n",
    "import matplotlib.pyplot as plt\n",
    "\n",
    "def f(x, coef):\n",
    "    return x * coef\n",
    "\n",
    "data = np.loadtxt('students.txt', delimiter=' ', skiprows=1)\n",
    "\n",
    "X = data[:, 1]\n",
    "Y = data[:, -1]\n",
    "\n",
    "costs = []\n",
    "\n",
    "for coef in np.arange(-50, 50, 0.1):\n",
    "    tmp = 0\n",
    "    for i in range(len(X)):\n",
    "        tmp += (Y[i] - f(X[i], coef)) ** 2\n",
    "    costs.append(tmp)\n",
    "\n",
    "plt.scatter(np.arange(-50, 50, 0.1), costs)\n",
    "plt.show()"
   ]
  },
  {
   "cell_type": "markdown",
   "metadata": {},
   "source": [
    "- 데이터는 학생 성적 데이터이고, Y는 성적, X는 공부시간이다.\n",
    "- 모델은 단순히 `y = w * x` 꼴로 intercept 없이 만들었다.\n",
    "- 그래프의 X축은 w 값이고, Y축은 Squared loss의 sum이다. w 값을 -50에서 50까지 0.1 간격으로 변화시켜가며 Squared loss의 sum의 변화를 관찰했다.\n",
    "- 아래로 볼록한 convex 꼴을 볼 수 있다.\n",
    "\n",
    "## 2. Logistic regression\n",
    "\n",
    "- Logistic regression의 경우 같은 방법을 쓰는 것이 불가능하다. 그것을 보이고자 한다.\n",
    "- 한 마디로 정리하면 sigmoid 함수의 모양(S자의 non convex 형태) 때문에 beta 벡터에 따른 cost 값이 non convex 형태로 나타나기 때문이다."
   ]
  },
  {
   "cell_type": "code",
   "execution_count": 3,
   "metadata": {},
   "outputs": [
    {
     "data": {
      "image/png": "[encoded data removed]",
      "text/plain": [
       "<matplotlib.figure.Figure at 0x1117bbb00>"
      ]
     },
     "metadata": {},
     "output_type": "display_data"
    }
   ],
   "source": [
    "import math\n",
    "import numpy as np\n",
    "import matplotlib\n",
    "import matplotlib.pyplot as plt\n",
    "\n",
    "def f(x, coef):\n",
    "    return coef * x\n",
    "\n",
    "# sigmoid function\n",
    "def g(x, coef):\n",
    "    return 1 / (1 + math.exp(-f(x, coef)))\n",
    "\n",
    "X = np.arange(-50, 50, 0.1)\n",
    "Y = np.array(list(map(lambda x: 0 if x < 0 else 1, np.arange(-50, 50, 0.1))))\n",
    "\n",
    "costs = []\n",
    "for coef in np.arange(-1, 1, 0.01):\n",
    "    c = 0\n",
    "    for i in range(len(X)):\n",
    "        c += (Y[i] - g(X[i], coef)) ** 2\n",
    "    costs.append(c)\n",
    "\n",
    "plt.scatter(np.arange(-1, 1, 0.01), costs)\n",
    "plt.show()"
   ]
  },
  {
   "cell_type": "markdown",
   "metadata": {},
   "source": [
    "- 데이터는 직접 생성했다. 쉽게 X가 음수면 Y는 0, 양수면 1인 (x, y) 쌍이다.\n",
    "- f 함수는 단순한 `y = w * x` 꼴의 형태고, g 함수를 sigmoid 함수 형태로 만들었다.\n",
    "- weight 값을 변화시켜가면서 cost 변화를 관찰했다(-1에서 1까지 0.01 간격)\n",
    "- Squared loss의 sum이 Y축 값으로 찍히게 되는데 위 그래프를 보면 알 수 있듯이 non-convex이다.\n",
    "- 즉 linear의 cost 변화는 convex 꼴이라서 gradient descent 적용이 가능하고, logistic의 cost는 non-convex 꼴이라서 안된다."
   ]
  },
  {
   "cell_type": "code",
   "execution_count": null,
   "metadata": {
    "collapsed": true
   },
   "outputs": [],
   "source": []
  }
 ],
 "metadata": {
  "kernelspec": {
   "display_name": "Python 3",
   "language": "python",
   "name": "python3"
  },
  "language_info": {
   "codemirror_mode": {
    "name": "ipython",
    "version": 3
   },
   "file_extension": ".py",
   "mimetype": "text/x-python",
   "name": "python",
   "nbconvert_exporter": "python",
   "pygments_lexer": "ipython3",
   "version": "3.6.1"
  }
 },
 "nbformat": 4,
 "nbformat_minor": 2
}
