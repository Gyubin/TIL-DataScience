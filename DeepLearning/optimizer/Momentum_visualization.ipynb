{
 "cells": [
  {
   "cell_type": "markdown",
   "metadata": {},
   "source": [
    "# Momentum\n",
    "\n",
    "Momentum optimizer를 썼을 때 weight, velocity, cost의 변화를 시각적으로 살펴보자.\n",
    "\n",
    "## 1. Prepare data\n",
    "\n",
    "TV 광고에 따른 매출 변화 데이터"
   ]
  },
  {
   "cell_type": "code",
   "execution_count": 1,
   "metadata": {},
   "outputs": [],
   "source": [
    "import pandas as pd\n",
    "import numpy as np\n",
    "import matplotlib\n",
    "import matplotlib.pyplot as plt"
   ]
  },
  {
   "cell_type": "code",
   "execution_count": 2,
   "metadata": {},
   "outputs": [
    {
     "data": {
      "text/html": [
       "<div>\n",
       "<style>\n",
       "    .dataframe thead tr:only-child th {\n",
       "        text-align: right;\n",
       "    }\n",
       "\n",
       "    .dataframe thead th {\n",
       "        text-align: left;\n",
       "    }\n",
       "\n",
       "    .dataframe tbody tr th {\n",
       "        vertical-align: top;\n",
       "    }\n",
       "</style>\n",
       "<table border=\"1\" class=\"dataframe\">\n",
       "  <thead>\n",
       "    <tr style=\"text-align: right;\">\n",
       "      <th></th>\n",
       "      <th>Unnamed: 0</th>\n",
       "      <th>TV</th>\n",
       "      <th>Radio</th>\n",
       "      <th>Newspaper</th>\n",
       "      <th>Sales</th>\n",
       "    </tr>\n",
       "  </thead>\n",
       "  <tbody>\n",
       "    <tr>\n",
       "      <th>0</th>\n",
       "      <td>1</td>\n",
       "      <td>230.1</td>\n",
       "      <td>37.8</td>\n",
       "      <td>69.2</td>\n",
       "      <td>22.1</td>\n",
       "    </tr>\n",
       "    <tr>\n",
       "      <th>1</th>\n",
       "      <td>2</td>\n",
       "      <td>44.5</td>\n",
       "      <td>39.3</td>\n",
       "      <td>45.1</td>\n",
       "      <td>10.4</td>\n",
       "    </tr>\n",
       "    <tr>\n",
       "      <th>2</th>\n",
       "      <td>3</td>\n",
       "      <td>17.2</td>\n",
       "      <td>45.9</td>\n",
       "      <td>69.3</td>\n",
       "      <td>9.3</td>\n",
       "    </tr>\n",
       "    <tr>\n",
       "      <th>3</th>\n",
       "      <td>4</td>\n",
       "      <td>151.5</td>\n",
       "      <td>41.3</td>\n",
       "      <td>58.5</td>\n",
       "      <td>18.5</td>\n",
       "    </tr>\n",
       "    <tr>\n",
       "      <th>4</th>\n",
       "      <td>5</td>\n",
       "      <td>180.8</td>\n",
       "      <td>10.8</td>\n",
       "      <td>58.4</td>\n",
       "      <td>12.9</td>\n",
       "    </tr>\n",
       "  </tbody>\n",
       "</table>\n",
       "</div>"
      ],
      "text/plain": [
       "   Unnamed: 0     TV  Radio  Newspaper  Sales\n",
       "0           1  230.1   37.8       69.2   22.1\n",
       "1           2   44.5   39.3       45.1   10.4\n",
       "2           3   17.2   45.9       69.3    9.3\n",
       "3           4  151.5   41.3       58.5   18.5\n",
       "4           5  180.8   10.8       58.4   12.9"
      ]
     },
     "execution_count": 2,
     "metadata": {},
     "output_type": "execute_result"
    }
   ],
   "source": [
    "data = pd.read_csv('advertisement.csv')\n",
    "data.head()"
   ]
  },
  {
   "cell_type": "code",
   "execution_count": 3,
   "metadata": {},
   "outputs": [],
   "source": [
    "X = data.loc[:, 'TV'].values\n",
    "y = data.loc[:, 'Sales'].values"
   ]
  },
  {
   "cell_type": "code",
   "execution_count": 4,
   "metadata": {},
   "outputs": [
    {
     "name": "stdout",
     "output_type": "stream",
     "text": [
      "X shape: (200,)\n",
      "y shape: (200,)\n"
     ]
    }
   ],
   "source": [
    "print('X shape: {}'.format(X.shape))\n",
    "print('y shape: {}'.format(y.shape))"
   ]
  },
  {
   "cell_type": "code",
   "execution_count": 5,
   "metadata": {},
   "outputs": [
    {
     "data": {
      "image/png": "[encoded data removed]",
      "text/plain": [
       "<matplotlib.figure.Figure at 0x10866a358>"
      ]
     },
     "metadata": {},
     "output_type": "display_data"
    }
   ],
   "source": [
    "plt.scatter(X, y)\n",
    "plt.show()\n",
    "plt.close()"
   ]
  },
  {
   "cell_type": "markdown",
   "metadata": {},
   "source": [
    "## 2. Loss shape : convex\n",
    "\n",
    "- `advertisement.csv` 데이터에서 TV 광고 feature 하나만 사용\n",
    "- 모델은 `f(x) = w*X + b` 형태로 사용\n",
    "\n",
    "### 2.1 parameter가 독립이라면\n",
    "\n",
    "- w와 b에 따른 loss의 변화를 그래프로 나타내면 아래와 같다. 둘 모두 convex 형태다.\n",
    "- 물론 상관관계가 있기 때문에 아래 두 cost 그래프의 최적 w, b가 global optimum은 아니다.\n",
    "- 단순히 각각이 convex 꼴인지만 시각적으로 보려고 그려봤다."
   ]
  },
  {
   "cell_type": "code",
   "execution_count": 6,
   "metadata": {},
   "outputs": [
    {
     "data": {
      "image/png": "[encoded data removed]",
      "text/plain": [
       "<matplotlib.figure.Figure at 0x10869f400>"
      ]
     },
     "metadata": {},
     "output_type": "display_data"
    }
   ],
   "source": [
    "w_costs = []\n",
    "\n",
    "for w in np.arange(-50, 50, 0.1):\n",
    "    cost = np.sum(np.square(w * X - y)) / len(X)\n",
    "    w_costs.append(cost)\n",
    "\n",
    "plt.scatter(np.arange(-50, 50, 0.1), w_costs)\n",
    "plt.show()\n",
    "plt.close()"
   ]
  },
  {
   "cell_type": "code",
   "execution_count": 7,
   "metadata": {},
   "outputs": [
    {
     "data": {
      "image/png": "[encoded data removed]",
      "text/plain": [
       "<matplotlib.figure.Figure at 0x10872e940>"
      ]
     },
     "metadata": {},
     "output_type": "display_data"
    }
   ],
   "source": [
    "b_costs = []\n",
    "start = -470\n",
    "end = 200\n",
    "for b in np.arange(start, end, 1):\n",
    "    cost = np.sum(np.square(X + b - y))\n",
    "    b_costs.append(cost)\n",
    "\n",
    "plt.scatter(np.arange(start, end, 1), b_costs)\n",
    "plt.show()\n",
    "plt.close()"
   ]
  },
  {
   "cell_type": "markdown",
   "metadata": {},
   "source": [
    "### 2.2 Optimum value\n",
    "\n",
    "- sklearn의 linear regression 모델을 활용해서 최적의 w, b를 구해보면 다음과 같다.\n",
    "- 위 독립임을 가정하고 구했을 때의 최적값과 실제로 다르다 => 상관성 존재"
   ]
  },
  {
   "cell_type": "code",
   "execution_count": 8,
   "metadata": {},
   "outputs": [],
   "source": [
    "from sklearn.linear_model import LinearRegression"
   ]
  },
  {
   "cell_type": "code",
   "execution_count": 9,
   "metadata": {},
   "outputs": [
    {
     "data": {
      "text/plain": [
       "(200, 1)"
      ]
     },
     "execution_count": 9,
     "metadata": {},
     "output_type": "execute_result"
    }
   ],
   "source": [
    "X_input = X.reshape(-1, 1)\n",
    "X_input.shape"
   ]
  },
  {
   "cell_type": "code",
   "execution_count": 10,
   "metadata": {},
   "outputs": [
    {
     "name": "stderr",
     "output_type": "stream",
     "text": [
      "/Users/qbinson/.virtualenvs/fira/lib/python3.6/site-packages/scipy/linalg/basic.py:1018: RuntimeWarning: internal gelsd driver lwork query error, required iwork dimension not returned. This is likely the result of LAPACK bug 0038, fixed in LAPACK 3.2.2 (released July 21, 2010). Falling back to 'gelss' driver.\n",
      "  warnings.warn(mesg, RuntimeWarning)\n"
     ]
    },
    {
     "data": {
      "text/plain": [
       "LinearRegression(copy_X=True, fit_intercept=True, n_jobs=1, normalize=False)"
      ]
     },
     "execution_count": 10,
     "metadata": {},
     "output_type": "execute_result"
    }
   ],
   "source": [
    "model = LinearRegression()\n",
    "model.fit(X_input, y)"
   ]
  },
  {
   "cell_type": "code",
   "execution_count": 11,
   "metadata": {},
   "outputs": [
    {
     "name": "stdout",
     "output_type": "stream",
     "text": [
      "coef: [ 0.04753664]\n",
      "intercept: 7.032593549127695\n"
     ]
    }
   ],
   "source": [
    "print('coef: {}'.format(model.coef_))\n",
    "print('intercept: {}'.format(model.intercept_))"
   ]
  },
  {
   "cell_type": "markdown",
   "metadata": {},
   "source": [
    "## 3. Training\n",
    "\n",
    "### 3.1 Momentum optimizer\n",
    "\n",
    "$$\n",
    "m_t = \\beta m_{t-1} + \\eta d \\\\\n",
    "\\theta_t = \\theta_{t-1} - m_t\n",
    "$$\n",
    "\n",
    "- $m_t$ : t 시점의 velocity\n",
    "- $\\beta$ : friction(마찰)\n",
    "- $\\eta$ : learning rate(eta)\n",
    "- $\\theta_t$ : t 시점의 weight vector"
   ]
  },
  {
   "cell_type": "code",
   "execution_count": 12,
   "metadata": {},
   "outputs": [],
   "source": [
    "# Global variables (X, y also)\n",
    "BETA = 0.9 # friction\n",
    "ETA = 0.00000001 # learning rate\n",
    "\n",
    "VELOCITIES= [{'w':0, 'b':0}] # initialized to 0\n",
    "PARAMS = [{'w':12.5, 'b':0.8}] # random initialization\n",
    "DERIVATIVES = []\n",
    "COSTS = []\n",
    "\n",
    "# Equations\n",
    "def get_next_vw(m_past, dw):\n",
    "    m = BETA * m_past + ETA * dw\n",
    "    return m\n",
    "\n",
    "def get_next_vb(m_past, db):\n",
    "    m = BETA * m_past + ETA * db\n",
    "    return m\n",
    "\n",
    "def get_next_w(w_past, m):\n",
    "    w = w_past - m\n",
    "    return w\n",
    "\n",
    "def get_next_b(b_past, m):\n",
    "    b = b_past - m\n",
    "    return b"
   ]
  },
  {
   "cell_type": "markdown",
   "metadata": {},
   "source": [
    "### 3.2 Training\n",
    "\n",
    "- propagate할 때 cost와 derivatives를 구한다\n",
    "- backpropagate할 때 momentum으로 weight 업데이트"
   ]
  },
  {
   "cell_type": "code",
   "execution_count": 13,
   "metadata": {},
   "outputs": [],
   "source": [
    "def propagate(w, b):\n",
    "    cost = np.sum(np.square(w * X - y)) / len(X)\n",
    "    dw = np.dot(w*X + b - y, X) / len(X)\n",
    "    db = np.sum(w*X + b - y) / len(X)\n",
    "    return cost, dw, db\n",
    "\n",
    "def back_propagate(w, b, dw, db):\n",
    "    next_vw = get_next_vw(w, dw)\n",
    "    next_w = get_next_w(w, next_vw)\n",
    "    \n",
    "    next_vb = get_next_vb(b, db)\n",
    "    next_b = get_next_b(b, next_vb)\n",
    "    \n",
    "    return next_vw, next_vb, next_w, next_b"
   ]
  },
  {
   "cell_type": "code",
   "execution_count": 14,
   "metadata": {},
   "outputs": [],
   "source": [
    "min_cost = np.inf\n",
    "max_bad_iteration = 5\n",
    "best_idx = 0\n",
    "\n",
    "for i in range(1000):\n",
    "    # Forward propagate\n",
    "    cost, dw, db = propagate(PARAMS[i]['w'], PARAMS[i]['b'])\n",
    "    if cost < min_cost:\n",
    "        min_cost = cost\n",
    "        max_bad_iteration = 5\n",
    "        best_idx = i\n",
    "    else:\n",
    "        max_bad_iteration -= 1\n",
    "        if max_bad_iteration == 0:\n",
    "            break\n",
    "    COSTS.append(cost)\n",
    "    DERIVATIVES.append({'w':dw, 'b':db})\n",
    "    \n",
    "    # Backword propagate\n",
    "    next_vw, next_vb, next_w, next_b = back_propagate(PARAMS[i]['w'], PARAMS[i]['b'], dw, db)\n",
    "    VELOCITIES.append({'w':next_vw, 'b':next_vb})\n",
    "    PARAMS.append({'w':next_w, 'b':next_b})"
   ]
  },
  {
   "cell_type": "code",
   "execution_count": 15,
   "metadata": {},
   "outputs": [
    {
     "name": "stdout",
     "output_type": "stream",
     "text": [
      "len: 8\n",
      "{'w': 3.9059484774035103e-05, 'b': 9.5466631151392943e-07}\n",
      "223.527985142\n"
     ]
    }
   ],
   "source": [
    "print(\"len: {}\".format(len(PARAMS)))\n",
    "print(PARAMS[-2])\n",
    "print(COSTS[-1])"
   ]
  },
  {
   "cell_type": "code",
   "execution_count": 16,
   "metadata": {},
   "outputs": [
    {
     "data": {
      "text/plain": [
       "2102.5305831313522"
      ]
     },
     "execution_count": 16,
     "metadata": {},
     "output_type": "execute_result"
    }
   ],
   "source": [
    "np.sum(np.square((0.04753664 * X + 7.032593549127695) - y))"
   ]
  },
  {
   "cell_type": "code",
   "execution_count": 17,
   "metadata": {},
   "outputs": [
    {
     "data": {
      "image/png": "[encoded data removed]",
      "text/plain": [
       "<matplotlib.figure.Figure at 0x10ab88080>"
      ]
     },
     "metadata": {},
     "output_type": "display_data"
    }
   ],
   "source": [
    "plt.scatter(X, y)\n",
    "plt.plot(range(300), np.array(range(300)) * 0.04753664 + 7.032593549127695)\n",
    "plt.plot(range(300), np.array(range(300)) * 2.8000054168609359e-05 + 2.3563418756183097e-07)\n",
    "plt.show()\n",
    "plt.close()"
   ]
  },
  {
   "cell_type": "code",
   "execution_count": 18,
   "metadata": {},
   "outputs": [
    {
     "data": {
      "text/plain": [
       "array([0, 1, 2, 3, 4, 5, 6, 7, 8, 9])"
      ]
     },
     "execution_count": 18,
     "metadata": {},
     "output_type": "execute_result"
    }
   ],
   "source": [
    "np.array(range(10))"
   ]
  },
  {
   "cell_type": "code",
   "execution_count": null,
   "metadata": {},
   "outputs": [],
   "source": []
  },
  {
   "cell_type": "code",
   "execution_count": 19,
   "metadata": {},
   "outputs": [
    {
     "data": {
      "image/png": "[encoded data removed]",
      "text/plain": [
       "<matplotlib.figure.Figure at 0x10ac2cc18>"
      ]
     },
     "metadata": {},
     "output_type": "display_data"
    }
   ],
   "source": [
    "iteration = len(COSTS)\n",
    "plt.plot(range(iteration), COSTS[:iteration])\n",
    "plt.title('Cost changes')\n",
    "plt.xlabel('Iteration')\n",
    "plt.ylabel('Costs')\n",
    "plt.show()\n",
    "plt.close()"
   ]
  },
  {
   "cell_type": "code",
   "execution_count": 20,
   "metadata": {},
   "outputs": [
    {
     "ename": "NameError",
     "evalue": "name 'WEIGHTS' is not defined",
     "output_type": "error",
     "traceback": [
      "\u001b[0;31m---------------------------------------------------------------------------\u001b[0m",
      "\u001b[0;31mNameError\u001b[0m                                 Traceback (most recent call last)",
      "\u001b[0;32m<ipython-input-20-3fd03579f082>\u001b[0m in \u001b[0;36m<module>\u001b[0;34m()\u001b[0m\n\u001b[0;32m----> 1\u001b[0;31m \u001b[0mplt\u001b[0m\u001b[0;34m.\u001b[0m\u001b[0mplot\u001b[0m\u001b[0;34m(\u001b[0m\u001b[0mrange\u001b[0m\u001b[0;34m(\u001b[0m\u001b[0;36m101\u001b[0m\u001b[0;34m)\u001b[0m\u001b[0;34m,\u001b[0m \u001b[0mWEIGHTS\u001b[0m\u001b[0;34m[\u001b[0m\u001b[0;34m:\u001b[0m\u001b[0;36m101\u001b[0m\u001b[0;34m]\u001b[0m\u001b[0;34m)\u001b[0m\u001b[0;34m\u001b[0m\u001b[0m\n\u001b[0m\u001b[1;32m      2\u001b[0m \u001b[0mplt\u001b[0m\u001b[0;34m.\u001b[0m\u001b[0mtitle\u001b[0m\u001b[0;34m(\u001b[0m\u001b[0;34m'Weight changes'\u001b[0m\u001b[0;34m)\u001b[0m\u001b[0;34m\u001b[0m\u001b[0m\n\u001b[1;32m      3\u001b[0m \u001b[0mplt\u001b[0m\u001b[0;34m.\u001b[0m\u001b[0mxlabel\u001b[0m\u001b[0;34m(\u001b[0m\u001b[0;34m'Iteration'\u001b[0m\u001b[0;34m)\u001b[0m\u001b[0;34m\u001b[0m\u001b[0m\n\u001b[1;32m      4\u001b[0m \u001b[0mplt\u001b[0m\u001b[0;34m.\u001b[0m\u001b[0mylabel\u001b[0m\u001b[0;34m(\u001b[0m\u001b[0;34m'Weight value'\u001b[0m\u001b[0;34m)\u001b[0m\u001b[0;34m\u001b[0m\u001b[0m\n\u001b[1;32m      5\u001b[0m \u001b[0mplt\u001b[0m\u001b[0;34m.\u001b[0m\u001b[0mshow\u001b[0m\u001b[0;34m(\u001b[0m\u001b[0;34m)\u001b[0m\u001b[0;34m\u001b[0m\u001b[0m\n",
      "\u001b[0;31mNameError\u001b[0m: name 'WEIGHTS' is not defined"
     ]
    }
   ],
   "source": [
    "map(PARAMS)\n",
    "plt.plot(range(101), WEIGHTS[:101])\n",
    "plt.title('Weight changes')\n",
    "plt.xlabel('Iteration')\n",
    "plt.ylabel('Weight value')\n",
    "plt.show()\n",
    "plt.close()"
   ]
  },
  {
   "cell_type": "code",
   "execution_count": null,
   "metadata": {},
   "outputs": [],
   "source": [
    "plt.plot(range(101), BIASES[:101])\n",
    "plt.title('Weight changes')\n",
    "plt.xlabel('Iteration')\n",
    "plt.ylabel('Weight value')\n",
    "plt.show()\n",
    "plt.close()"
   ]
  },
  {
   "cell_type": "code",
   "execution_count": null,
   "metadata": {},
   "outputs": [],
   "source": [
    "plt.plot(range(101), VELOCITIES_W[:101])\n",
    "plt.title('Velocity changes')\n",
    "plt.xlabel('Iteration')\n",
    "plt.ylabel('Velocity')\n",
    "plt.show()\n",
    "plt.close()"
   ]
  },
  {
   "cell_type": "code",
   "execution_count": null,
   "metadata": {},
   "outputs": [],
   "source": [
    "plt.plot(range(101), VELOCITIES_B[:101])\n",
    "plt.title('Velocity changes')\n",
    "plt.xlabel('Iteration')\n",
    "plt.ylabel('Velocity')\n",
    "plt.show()\n",
    "plt.close()"
   ]
  },
  {
   "cell_type": "code",
   "execution_count": null,
   "metadata": {},
   "outputs": [],
   "source": [
    "plt.plot(range(101), DERIVATIVES_W[:101])\n",
    "plt.title('Derivative changes')\n",
    "plt.xlabel('Iteration')\n",
    "plt.ylabel('Derivative')\n",
    "plt.show()\n",
    "plt.close()"
   ]
  },
  {
   "cell_type": "code",
   "execution_count": null,
   "metadata": {},
   "outputs": [],
   "source": [
    "plt.plot(range(101), DERIVATIVES_B[:101])\n",
    "plt.title('Derivative changes')\n",
    "plt.xlabel('Iteration')\n",
    "plt.ylabel('Derivative')\n",
    "plt.show()\n",
    "plt.close()"
   ]
  },
  {
   "cell_type": "markdown",
   "metadata": {},
   "source": [
    "## 4. Simple example\n",
    "\n",
    "### 4.1 Simple loss"
   ]
  },
  {
   "cell_type": "code",
   "execution_count": null,
   "metadata": {},
   "outputs": [],
   "source": [
    "theta = np.arange(-10, 10, 0.01)"
   ]
  },
  {
   "cell_type": "code",
   "execution_count": null,
   "metadata": {},
   "outputs": [],
   "source": [
    "def get_loss(x):\n",
    "    return max(-x, x)"
   ]
  },
  {
   "cell_type": "code",
   "execution_count": null,
   "metadata": {},
   "outputs": [],
   "source": [
    "loss = []\n",
    "for t in theta:\n",
    "    loss.append(get_loss(t))"
   ]
  },
  {
   "cell_type": "code",
   "execution_count": null,
   "metadata": {},
   "outputs": [],
   "source": [
    "plt.scatter(theta, loss)\n",
    "plt.show()\n",
    "plt.close()"
   ]
  },
  {
   "cell_type": "markdown",
   "metadata": {},
   "source": [
    "### 4.2 Velocity and theta"
   ]
  },
  {
   "cell_type": "code",
   "execution_count": null,
   "metadata": {},
   "outputs": [],
   "source": [
    "beta = 0.9 # friction\n",
    "eta = 0.01 # learning rate\n",
    "d = 1 # Assume theta is initialized to any positive value\n",
    "m = 0\n",
    "t = 0\n",
    "thetas = [8.5]\n",
    "velocities = [0]"
   ]
  },
  {
   "cell_type": "code",
   "execution_count": null,
   "metadata": {},
   "outputs": [],
   "source": [
    "def get_next_veloicty(m):\n",
    "    return beta * m + eta * d"
   ]
  },
  {
   "cell_type": "code",
   "execution_count": null,
   "metadata": {},
   "outputs": [],
   "source": [
    "def get_next_theta(theta, m):\n",
    "    return theta - m"
   ]
  },
  {
   "cell_type": "code",
   "execution_count": null,
   "metadata": {},
   "outputs": [],
   "source": [
    "for i in range(50):\n",
    "    next_v = get_next_veloicty(velocities[i])\n",
    "    velocities.append(next_v)\n",
    "    next_t = get_next_theta(thetas[i], next_v)\n",
    "    thetas.append(next_t)"
   ]
  },
  {
   "cell_type": "markdown",
   "metadata": {},
   "source": [
    "현재 기울기를 1로 고정해놨기 때문에 계속 theta 값은 줄어든다. 그래프에서 보면 점점 빠르게 줄어드는 것을 볼 수 있다."
   ]
  },
  {
   "cell_type": "code",
   "execution_count": null,
   "metadata": {},
   "outputs": [],
   "source": [
    "plt.scatter(range(51), thetas)\n",
    "plt.show()\n",
    "plt.close()"
   ]
  },
  {
   "cell_type": "markdown",
   "metadata": {},
   "source": [
    "m 값, 즉 velocity는 계속 증가하긴 하는데 결국 terminal velocity 값이 존재한다."
   ]
  },
  {
   "cell_type": "code",
   "execution_count": null,
   "metadata": {},
   "outputs": [],
   "source": [
    "plt.scatter(range(51), velocities)\n",
    "plt.show()\n",
    "plt.close()"
   ]
  },
  {
   "cell_type": "code",
   "execution_count": null,
   "metadata": {},
   "outputs": [],
   "source": []
  }
 ],
 "metadata": {
  "kernelspec": {
   "display_name": "Python 3",
   "language": "python",
   "name": "python3"
  },
  "language_info": {
   "codemirror_mode": {
    "name": "ipython",
    "version": 3
   },
   "file_extension": ".py",
   "mimetype": "text/x-python",
   "name": "python",
   "nbconvert_exporter": "python",
   "pygments_lexer": "ipython3",
   "version": "3.6.2"
  }
 },
 "nbformat": 4,
 "nbformat_minor": 2
}
